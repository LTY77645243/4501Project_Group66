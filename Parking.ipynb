{
 "cells": [
  {
   "cell_type": "code",
   "execution_count": 2,
   "id": "a8850ee1-dcf9-48d2-bde6-1b7e532137f7",
   "metadata": {},
   "outputs": [],
   "source": [
    "import pandas as pd\n",
    "import numpy as np"
   ]
  },
  {
   "cell_type": "code",
   "execution_count": 4,
   "id": "5ddda29e-b469-491e-8ce5-0a4953409224",
   "metadata": {},
   "outputs": [],
   "source": [
    "# Read data\n",
    "df = pd.read_csv('311_Service_Requests_2020.csv')\n",
    "df1 = df[['Unique Key','Incident Zip','Complaint Type']] \n",
    "df2 = df1[df1['Incident Zip'] == 10019]"
   ]
  },
  {
   "cell_type": "code",
   "execution_count": 5,
   "id": "8efad69d-54b0-4881-96ee-ae942b8c59a5",
   "metadata": {},
   "outputs": [],
   "source": [
    "# Calculate the percentage of Illegal Parking numbers in Tianyi's zipcode\n",
    "Answer1 = df2.groupby('Complaint Type').size().sort_values(ascending = False).head(10) \n",
    "Tianyi_percentage_illegal_parking = Answer1['Illegal Parking']/df2.groupby('Complaint Type').size().sum()\n",
    "\n",
    "# Calculate the percentage of Illegal Parking numbers in all areas.\n",
    "total = df.groupby('Complaint Type').size()\n",
    "Total_percentage_illegal_parking = total['Illegal Parking']/total.sum()\n",
    "\n",
    "# Answer for question2 is False\n",
    "higher_parking_proportion = Tianyi_percentage_illegal_parking > Total_percentage_illegal_parking"
   ]
  },
  {
   "cell_type": "code",
   "execution_count": 6,
   "id": "2d0c6fad-7525-44af-84d5-66ffc416d5f5",
   "metadata": {},
   "outputs": [
    {
     "data": {
      "text/plain": [
       "False"
      ]
     },
     "execution_count": 6,
     "metadata": {},
     "output_type": "execute_result"
    }
   ],
   "source": [
    "higher_parking_proportion"
   ]
  }
 ],
 "metadata": {
  "kernelspec": {
   "display_name": "Python 3",
   "language": "python",
   "name": "python3"
  },
  "language_info": {
   "codemirror_mode": {
    "name": "ipython",
    "version": 3
   },
   "file_extension": ".py",
   "mimetype": "text/x-python",
   "name": "python",
   "nbconvert_exporter": "python",
   "pygments_lexer": "ipython3",
   "version": "3.8.8"
  }
 },
 "nbformat": 4,
 "nbformat_minor": 5
}
