{
 "cells": [
  {
   "cell_type": "markdown",
   "id": "0e2301e3-f8e2-457a-a745-e4fd5d4c9189",
   "metadata": {},
   "source": [
    "# TFA Group Project \n",
    "Team number: 66   \n",
    "Team member 1: Tianyi Li, tl3094    \n",
    "Team member 2: Jianzhi Guo, jg4404"
   ]
  },
  {
   "cell_type": "code",
   "execution_count": 3,
   "id": "b23812df-46b5-4868-b907-683ae54a9a17",
   "metadata": {},
   "outputs": [],
   "source": [
    "import pandas as pd\n",
    "import numpy as np"
   ]
  },
  {
   "cell_type": "code",
   "execution_count": 66,
   "id": "00d9ae3d-2952-4aac-805c-30a2629bc970",
   "metadata": {},
   "outputs": [
    {
     "name": "stderr",
     "output_type": "stream",
     "text": [
      "/Users/mac/opt/anaconda3/lib/python3.8/site-packages/IPython/core/interactiveshell.py:3437: DtypeWarning: Columns (20,31,32) have mixed types.Specify dtype option on import or set low_memory=False.\n",
      "  exec(code_obj, self.user_global_ns, self.user_ns)\n"
     ]
    }
   ],
   "source": [
    "# Read csv, delete those useless columns\n",
    "df = pd.read_csv('311_Service_Requests_2020.csv')\n",
    "df1 = df[['Unique Key','Incident Zip','Complaint Type']] "
   ]
  },
  {
   "cell_type": "code",
   "execution_count": 67,
   "id": "0ff8cbdb-3a4c-4c0c-b049-f660f4677d25",
   "metadata": {},
   "outputs": [
    {
     "data": {
      "text/html": [
       "<div>\n",
       "<style scoped>\n",
       "    .dataframe tbody tr th:only-of-type {\n",
       "        vertical-align: middle;\n",
       "    }\n",
       "\n",
       "    .dataframe tbody tr th {\n",
       "        vertical-align: top;\n",
       "    }\n",
       "\n",
       "    .dataframe thead th {\n",
       "        text-align: right;\n",
       "    }\n",
       "</style>\n",
       "<table border=\"1\" class=\"dataframe\">\n",
       "  <thead>\n",
       "    <tr style=\"text-align: right;\">\n",
       "      <th></th>\n",
       "      <th>Unique Key</th>\n",
       "      <th>Incident Zip</th>\n",
       "      <th>Complaint Type</th>\n",
       "    </tr>\n",
       "  </thead>\n",
       "  <tbody>\n",
       "    <tr>\n",
       "      <th>1203</th>\n",
       "      <td>45286121</td>\n",
       "      <td>10019.0</td>\n",
       "      <td>Noise - Commercial</td>\n",
       "    </tr>\n",
       "    <tr>\n",
       "      <th>1220</th>\n",
       "      <td>45288147</td>\n",
       "      <td>10019.0</td>\n",
       "      <td>Noise - Street/Sidewalk</td>\n",
       "    </tr>\n",
       "    <tr>\n",
       "      <th>1248</th>\n",
       "      <td>45287437</td>\n",
       "      <td>10019.0</td>\n",
       "      <td>Noise - Commercial</td>\n",
       "    </tr>\n",
       "    <tr>\n",
       "      <th>1281</th>\n",
       "      <td>45287784</td>\n",
       "      <td>10019.0</td>\n",
       "      <td>Noise - Commercial</td>\n",
       "    </tr>\n",
       "    <tr>\n",
       "      <th>1287</th>\n",
       "      <td>45287381</td>\n",
       "      <td>10019.0</td>\n",
       "      <td>Noise - Commercial</td>\n",
       "    </tr>\n",
       "    <tr>\n",
       "      <th>...</th>\n",
       "      <td>...</td>\n",
       "      <td>...</td>\n",
       "      <td>...</td>\n",
       "    </tr>\n",
       "    <tr>\n",
       "      <th>2585520</th>\n",
       "      <td>48535090</td>\n",
       "      <td>10019.0</td>\n",
       "      <td>NonCompliance with Phased Reopening</td>\n",
       "    </tr>\n",
       "    <tr>\n",
       "      <th>2585734</th>\n",
       "      <td>48532031</td>\n",
       "      <td>10019.0</td>\n",
       "      <td>Broken Parking Meter</td>\n",
       "    </tr>\n",
       "    <tr>\n",
       "      <th>2585741</th>\n",
       "      <td>48532024</td>\n",
       "      <td>10019.0</td>\n",
       "      <td>Broken Parking Meter</td>\n",
       "    </tr>\n",
       "    <tr>\n",
       "      <th>2586622</th>\n",
       "      <td>48534884</td>\n",
       "      <td>10019.0</td>\n",
       "      <td>Noise - Commercial</td>\n",
       "    </tr>\n",
       "    <tr>\n",
       "      <th>2587215</th>\n",
       "      <td>48531281</td>\n",
       "      <td>10019.0</td>\n",
       "      <td>Noise - Residential</td>\n",
       "    </tr>\n",
       "  </tbody>\n",
       "</table>\n",
       "<p>15195 rows × 3 columns</p>\n",
       "</div>"
      ],
      "text/plain": [
       "         Unique Key  Incident Zip                       Complaint Type\n",
       "1203       45286121       10019.0                   Noise - Commercial\n",
       "1220       45288147       10019.0              Noise - Street/Sidewalk\n",
       "1248       45287437       10019.0                   Noise - Commercial\n",
       "1281       45287784       10019.0                   Noise - Commercial\n",
       "1287       45287381       10019.0                   Noise - Commercial\n",
       "...             ...           ...                                  ...\n",
       "2585520    48535090       10019.0  NonCompliance with Phased Reopening\n",
       "2585734    48532031       10019.0                 Broken Parking Meter\n",
       "2585741    48532024       10019.0                 Broken Parking Meter\n",
       "2586622    48534884       10019.0                   Noise - Commercial\n",
       "2587215    48531281       10019.0                  Noise - Residential\n",
       "\n",
       "[15195 rows x 3 columns]"
      ]
     },
     "execution_count": 67,
     "metadata": {},
     "output_type": "execute_result"
    }
   ],
   "source": [
    "# Choosing Tianyi's apartment zipcode\n",
    "df2 = df1[df1['Incident Zip'] == 10019]\n",
    "df2"
   ]
  },
  {
   "cell_type": "code",
   "execution_count": 73,
   "id": "cd0bb820-9fad-419f-9aa8-e261535cc18a",
   "metadata": {},
   "outputs": [
    {
     "data": {
      "text/plain": [
       "Complaint Type\n",
       "Noise - Street/Sidewalk                1299\n",
       "Noise - Residential                    1144\n",
       "Homeless Person Assistance             1116\n",
       "Noise                                  1066\n",
       "Illegal Parking                         998\n",
       "HEAT/HOT WATER                          866\n",
       "Noise - Commercial                      811\n",
       "Non-Emergency Police Matter             776\n",
       "Homeless Street Condition               658\n",
       "NonCompliance with Phased Reopening     620\n",
       "dtype: int64"
      ]
     },
     "execution_count": 73,
     "metadata": {},
     "output_type": "execute_result"
    }
   ],
   "source": [
    "# Answer for question1\n",
    "top10 = df2.groupby('Complaint Type').size().sort_values(ascending = False).head(10) \n",
    "top10"
   ]
  },
  {
   "cell_type": "code",
   "execution_count": null,
   "id": "33b5d488-6b8e-4446-9f28-d5273f9d19cc",
   "metadata": {},
   "outputs": [],
   "source": []
  }
 ],
 "metadata": {
  "kernelspec": {
   "display_name": "Python 3",
   "language": "python",
   "name": "python3"
  },
  "language_info": {
   "codemirror_mode": {
    "name": "ipython",
    "version": 3
   },
   "file_extension": ".py",
   "mimetype": "text/x-python",
   "name": "python",
   "nbconvert_exporter": "python",
   "pygments_lexer": "ipython3",
   "version": "3.8.8"
  }
 },
 "nbformat": 4,
 "nbformat_minor": 5
}
